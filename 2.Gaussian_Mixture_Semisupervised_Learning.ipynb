{
  "nbformat": 4,
  "nbformat_minor": 0,
  "metadata": {
    "colab": {
      "name": "Final_gaussian mixture.ipynb",
      "provenance": [],
      "collapsed_sections": [],
      "include_colab_link": true
    },
    "kernelspec": {
      "name": "python3",
      "display_name": "Python 3"
    },
    "language_info": {
      "name": "python"
    }
  },
  "cells": [
    {
      "cell_type": "markdown",
      "metadata": {
        "id": "view-in-github",
        "colab_type": "text"
      },
      "source": [
        "<a href=\"https://colab.research.google.com/github/jaeriver/2022_AI_Security_Project/blob/main/2.Gaussian_Mixture.ipynb\" target=\"_parent\"><img src=\"https://colab.research.google.com/assets/colab-badge.svg\" alt=\"Open In Colab\"/></a>"
      ]
    },
    {
      "cell_type": "code",
      "execution_count": null,
      "metadata": {
        "id": "BhQZoj1neXJ6"
      },
      "outputs": [],
      "source": [
        "import numpy as np\n",
        "import pandas as pd\n",
        "from sklearn.decomposition import PCA\n",
        "import seaborn as sns\n",
        "import matplotlib.pyplot as plt\n",
        "import pickle\n",
        "import sklearn\n",
        "from sklearn.metrics import confusion_matrix\n",
        "from sklearn.metrics import accuracy_score\n",
        "from sklearn.mixture import GaussianMixture\n",
        "from sklearn.isotonic import IsotonicRegression"
      ]
    },
    {
      "cell_type": "code",
      "source": [
        "from google.colab import drive\n",
        "drive.mount('/content/drive')"
      ],
      "metadata": {
        "colab": {
          "base_uri": "https://localhost:8080/"
        },
        "id": "RusG5szohDNJ",
        "outputId": "42aeb883-47bc-4859-a32b-41f13c8360cc"
      },
      "execution_count": null,
      "outputs": [
        {
          "output_type": "stream",
          "name": "stdout",
          "text": [
            "Mounted at /content/drive\n"
          ]
        }
      ]
    },
    {
      "cell_type": "code",
      "source": [
        "LABELS = ['Normal', 'Break']\n",
        "\n",
        "monday = pd.read_csv('/content/drive/MyDrive/인공지능보안프로젝트/datasets/Monday_Standard_Normal.csv')\n",
        "monday = monday.iloc[:,1:]  # unnamed_0 제거\n",
        "monday = monday.drop_duplicates()  # 중복값 제거\n",
        "\n",
        "tuesday = pd.read_csv('/content/drive/MyDrive/인공지능보안프로젝트/datasets/Tuesday_Standard.csv')\n",
        "tuesday = tuesday.iloc[:,1:]  # unnamed_0 제거\n",
        "tuesday = tuesday.drop_duplicates()  # 중복값 제거\n",
        "\n",
        "wednesday = pd.read_csv('/content/drive/MyDrive/인공지능보안프로젝트/datasets/Wednesday_Standard.csv')\n",
        "wednesday = wednesday.iloc[:,1:]  # unnamed_0 제거\n",
        "wednesday = wednesday.drop_duplicates()  # 중복값 제거\n",
        "\n",
        "thursday = pd.read_csv('/content/drive/MyDrive/인공지능보안프로젝트/datasets/Thursday_Standard.csv')\n",
        "thursday = thursday.iloc[:,1:]  # unnamed_0 제거\n",
        "thursday = thursday.drop_duplicates()  # 중복값 제거\n",
        "\n",
        "friday = pd.read_csv('/content/drive/MyDrive/인공지능보안프로젝트/datasets/Friday_Standard.csv')\n",
        "friday = friday.iloc[:,1:]  # unnamed_0 제거\n",
        "friday = friday.drop_duplicates()  # 중복값 제거\n",
        "\n",
        "monday = monday.replace('Anormal', 1)\n",
        "monday = monday.replace('Normal', 0)\n",
        "monday = monday[monday['Label'] == 0] # monday에서 정상값만 사용\n",
        "tuesday = tuesday.replace('Anormal', 1)\n",
        "tuesday = tuesday.replace('Normal', 0)\n",
        "wednesday = wednesday.replace('Anormal', 1)\n",
        "wednesday = wednesday.replace('Normal', 0)\n",
        "thursday = thursday.replace('Anormal', 1)\n",
        "thursday = thursday.replace('Normal', 0)\n",
        "friday = friday.replace('Anormal', 1)\n",
        "friday = friday.replace('Normal', 0)\n",
        "\n",
        "monday.head()"
      ],
      "metadata": {
        "colab": {
          "base_uri": "https://localhost:8080/",
          "height": 206
        },
        "id": "1Fjsg_x2foNg",
        "outputId": "f119b04b-d16d-4de1-89fb-7467d9e57d4f"
      },
      "execution_count": null,
      "outputs": [
        {
          "output_type": "execute_result",
          "data": {
            "text/plain": [
              "          ts        te        td        sa        da        sp        dp  \\\n",
              "1  -1.596917 -1.597767 -0.361342 -3.248083  0.567861 -1.635225  2.278644   \n",
              "3  -1.596917 -1.597767 -0.358325  0.393771  0.567861  0.851502 -0.495151   \n",
              "6  -1.596892 -1.597742 -0.361342 -2.582210  0.567861 -1.635225  2.272987   \n",
              "9  -1.596867 -1.597717 -0.360027  0.393771  0.567861  0.822926 -0.495151   \n",
              "10 -1.596867 -1.597717 -0.360012  0.393771  0.567861  0.773606 -0.495151   \n",
              "\n",
              "          pr      ipkt      ibyt      opkt      obyt  Label  \n",
              "1  -0.854834 -0.009816 -0.006690 -0.009402 -0.079539      0  \n",
              "3   1.167405 -0.008964 -0.006665 -0.010522 -0.077291      0  \n",
              "6  -0.854834 -0.009816 -0.006690 -0.009402 -0.079539      0  \n",
              "9   1.167405 -0.008964 -0.006643 -0.010522 -0.070709      0  \n",
              "10  1.167405 -0.008111 -0.006572 -0.009402 -0.069746      0  "
            ],
            "text/html": [
              "\n",
              "  <div id=\"df-03320df7-34ff-472b-8ba8-faae5006b65a\">\n",
              "    <div class=\"colab-df-container\">\n",
              "      <div>\n",
              "<style scoped>\n",
              "    .dataframe tbody tr th:only-of-type {\n",
              "        vertical-align: middle;\n",
              "    }\n",
              "\n",
              "    .dataframe tbody tr th {\n",
              "        vertical-align: top;\n",
              "    }\n",
              "\n",
              "    .dataframe thead th {\n",
              "        text-align: right;\n",
              "    }\n",
              "</style>\n",
              "<table border=\"1\" class=\"dataframe\">\n",
              "  <thead>\n",
              "    <tr style=\"text-align: right;\">\n",
              "      <th></th>\n",
              "      <th>ts</th>\n",
              "      <th>te</th>\n",
              "      <th>td</th>\n",
              "      <th>sa</th>\n",
              "      <th>da</th>\n",
              "      <th>sp</th>\n",
              "      <th>dp</th>\n",
              "      <th>pr</th>\n",
              "      <th>ipkt</th>\n",
              "      <th>ibyt</th>\n",
              "      <th>opkt</th>\n",
              "      <th>obyt</th>\n",
              "      <th>Label</th>\n",
              "    </tr>\n",
              "  </thead>\n",
              "  <tbody>\n",
              "    <tr>\n",
              "      <th>1</th>\n",
              "      <td>-1.596917</td>\n",
              "      <td>-1.597767</td>\n",
              "      <td>-0.361342</td>\n",
              "      <td>-3.248083</td>\n",
              "      <td>0.567861</td>\n",
              "      <td>-1.635225</td>\n",
              "      <td>2.278644</td>\n",
              "      <td>-0.854834</td>\n",
              "      <td>-0.009816</td>\n",
              "      <td>-0.006690</td>\n",
              "      <td>-0.009402</td>\n",
              "      <td>-0.079539</td>\n",
              "      <td>0</td>\n",
              "    </tr>\n",
              "    <tr>\n",
              "      <th>3</th>\n",
              "      <td>-1.596917</td>\n",
              "      <td>-1.597767</td>\n",
              "      <td>-0.358325</td>\n",
              "      <td>0.393771</td>\n",
              "      <td>0.567861</td>\n",
              "      <td>0.851502</td>\n",
              "      <td>-0.495151</td>\n",
              "      <td>1.167405</td>\n",
              "      <td>-0.008964</td>\n",
              "      <td>-0.006665</td>\n",
              "      <td>-0.010522</td>\n",
              "      <td>-0.077291</td>\n",
              "      <td>0</td>\n",
              "    </tr>\n",
              "    <tr>\n",
              "      <th>6</th>\n",
              "      <td>-1.596892</td>\n",
              "      <td>-1.597742</td>\n",
              "      <td>-0.361342</td>\n",
              "      <td>-2.582210</td>\n",
              "      <td>0.567861</td>\n",
              "      <td>-1.635225</td>\n",
              "      <td>2.272987</td>\n",
              "      <td>-0.854834</td>\n",
              "      <td>-0.009816</td>\n",
              "      <td>-0.006690</td>\n",
              "      <td>-0.009402</td>\n",
              "      <td>-0.079539</td>\n",
              "      <td>0</td>\n",
              "    </tr>\n",
              "    <tr>\n",
              "      <th>9</th>\n",
              "      <td>-1.596867</td>\n",
              "      <td>-1.597717</td>\n",
              "      <td>-0.360027</td>\n",
              "      <td>0.393771</td>\n",
              "      <td>0.567861</td>\n",
              "      <td>0.822926</td>\n",
              "      <td>-0.495151</td>\n",
              "      <td>1.167405</td>\n",
              "      <td>-0.008964</td>\n",
              "      <td>-0.006643</td>\n",
              "      <td>-0.010522</td>\n",
              "      <td>-0.070709</td>\n",
              "      <td>0</td>\n",
              "    </tr>\n",
              "    <tr>\n",
              "      <th>10</th>\n",
              "      <td>-1.596867</td>\n",
              "      <td>-1.597717</td>\n",
              "      <td>-0.360012</td>\n",
              "      <td>0.393771</td>\n",
              "      <td>0.567861</td>\n",
              "      <td>0.773606</td>\n",
              "      <td>-0.495151</td>\n",
              "      <td>1.167405</td>\n",
              "      <td>-0.008111</td>\n",
              "      <td>-0.006572</td>\n",
              "      <td>-0.009402</td>\n",
              "      <td>-0.069746</td>\n",
              "      <td>0</td>\n",
              "    </tr>\n",
              "  </tbody>\n",
              "</table>\n",
              "</div>\n",
              "      <button class=\"colab-df-convert\" onclick=\"convertToInteractive('df-03320df7-34ff-472b-8ba8-faae5006b65a')\"\n",
              "              title=\"Convert this dataframe to an interactive table.\"\n",
              "              style=\"display:none;\">\n",
              "        \n",
              "  <svg xmlns=\"http://www.w3.org/2000/svg\" height=\"24px\"viewBox=\"0 0 24 24\"\n",
              "       width=\"24px\">\n",
              "    <path d=\"M0 0h24v24H0V0z\" fill=\"none\"/>\n",
              "    <path d=\"M18.56 5.44l.94 2.06.94-2.06 2.06-.94-2.06-.94-.94-2.06-.94 2.06-2.06.94zm-11 1L8.5 8.5l.94-2.06 2.06-.94-2.06-.94L8.5 2.5l-.94 2.06-2.06.94zm10 10l.94 2.06.94-2.06 2.06-.94-2.06-.94-.94-2.06-.94 2.06-2.06.94z\"/><path d=\"M17.41 7.96l-1.37-1.37c-.4-.4-.92-.59-1.43-.59-.52 0-1.04.2-1.43.59L10.3 9.45l-7.72 7.72c-.78.78-.78 2.05 0 2.83L4 21.41c.39.39.9.59 1.41.59.51 0 1.02-.2 1.41-.59l7.78-7.78 2.81-2.81c.8-.78.8-2.07 0-2.86zM5.41 20L4 18.59l7.72-7.72 1.47 1.35L5.41 20z\"/>\n",
              "  </svg>\n",
              "      </button>\n",
              "      \n",
              "  <style>\n",
              "    .colab-df-container {\n",
              "      display:flex;\n",
              "      flex-wrap:wrap;\n",
              "      gap: 12px;\n",
              "    }\n",
              "\n",
              "    .colab-df-convert {\n",
              "      background-color: #E8F0FE;\n",
              "      border: none;\n",
              "      border-radius: 50%;\n",
              "      cursor: pointer;\n",
              "      display: none;\n",
              "      fill: #1967D2;\n",
              "      height: 32px;\n",
              "      padding: 0 0 0 0;\n",
              "      width: 32px;\n",
              "    }\n",
              "\n",
              "    .colab-df-convert:hover {\n",
              "      background-color: #E2EBFA;\n",
              "      box-shadow: 0px 1px 2px rgba(60, 64, 67, 0.3), 0px 1px 3px 1px rgba(60, 64, 67, 0.15);\n",
              "      fill: #174EA6;\n",
              "    }\n",
              "\n",
              "    [theme=dark] .colab-df-convert {\n",
              "      background-color: #3B4455;\n",
              "      fill: #D2E3FC;\n",
              "    }\n",
              "\n",
              "    [theme=dark] .colab-df-convert:hover {\n",
              "      background-color: #434B5C;\n",
              "      box-shadow: 0px 1px 3px 1px rgba(0, 0, 0, 0.15);\n",
              "      filter: drop-shadow(0px 1px 2px rgba(0, 0, 0, 0.3));\n",
              "      fill: #FFFFFF;\n",
              "    }\n",
              "  </style>\n",
              "\n",
              "      <script>\n",
              "        const buttonEl =\n",
              "          document.querySelector('#df-03320df7-34ff-472b-8ba8-faae5006b65a button.colab-df-convert');\n",
              "        buttonEl.style.display =\n",
              "          google.colab.kernel.accessAllowed ? 'block' : 'none';\n",
              "\n",
              "        async function convertToInteractive(key) {\n",
              "          const element = document.querySelector('#df-03320df7-34ff-472b-8ba8-faae5006b65a');\n",
              "          const dataTable =\n",
              "            await google.colab.kernel.invokeFunction('convertToInteractive',\n",
              "                                                     [key], {});\n",
              "          if (!dataTable) return;\n",
              "\n",
              "          const docLinkHtml = 'Like what you see? Visit the ' +\n",
              "            '<a target=\"_blank\" href=https://colab.research.google.com/notebooks/data_table.ipynb>data table notebook</a>'\n",
              "            + ' to learn more about interactive tables.';\n",
              "          element.innerHTML = '';\n",
              "          dataTable['output_type'] = 'display_data';\n",
              "          await google.colab.output.renderOutput(dataTable, element);\n",
              "          const docLink = document.createElement('div');\n",
              "          docLink.innerHTML = docLinkHtml;\n",
              "          element.appendChild(docLink);\n",
              "        }\n",
              "      </script>\n",
              "    </div>\n",
              "  </div>\n",
              "  "
            ]
          },
          "metadata": {},
          "execution_count": 3
        }
      ]
    },
    {
      "cell_type": "code",
      "source": [
        "x_monday = monday.drop('Label', axis=1).values\n",
        "y_monday = monday['Label'].values\n",
        "x_tuesday= tuesday.drop('Label', axis=1).values\n",
        "y_tuesday = tuesday['Label'].values\n",
        "x_wednesday= wednesday.drop('Label', axis=1).values\n",
        "y_wednesday = wednesday['Label'].values\n",
        "x_thursday= thursday.drop('Label', axis=1).values\n",
        "y_thursday = thursday['Label'].values\n",
        "x_friday = friday.drop('Label', axis=1).values\n",
        "y_friday = friday['Label'].values"
      ],
      "metadata": {
        "id": "AFN4REq1hRqB"
      },
      "execution_count": null,
      "outputs": []
    },
    {
      "cell_type": "code",
      "source": [
        "print(monday['Label'].value_counts())\n",
        "print(tuesday['Label'].value_counts())\n",
        "print(wednesday['Label'].value_counts())\n",
        "print(thursday['Label'].value_counts())\n",
        "print(friday['Label'].value_counts())"
      ],
      "metadata": {
        "colab": {
          "base_uri": "https://localhost:8080/"
        },
        "id": "I9Za-xGFhRro",
        "outputId": "f3e57fc5-cb46-433a-faa3-cb2c33e86bac"
      },
      "execution_count": null,
      "outputs": [
        {
          "output_type": "stream",
          "name": "stdout",
          "text": [
            "0    357241\n",
            "Name: Label, dtype: int64\n",
            "0    432018\n",
            "1     13835\n",
            "Name: Label, dtype: int64\n",
            "0    440012\n",
            "1    252670\n",
            "Name: Label, dtype: int64\n",
            "0    456606\n",
            "1      2216\n",
            "Name: Label, dtype: int64\n",
            "0    414314\n",
            "1    288923\n",
            "Name: Label, dtype: int64\n"
          ]
        }
      ]
    },
    {
      "cell_type": "code",
      "source": [
        "X_train = x_monday\n",
        "y_train = y_monday\n",
        "X_test = x_friday\n",
        "y_test = y_friday\n",
        "X_val = x_wednesday\n",
        "Y_val = y_wednesday\n",
        "\n",
        "gmm_clf = GaussianMixture(covariance_type='full', n_components=3 ,max_iter=int(1e5))  # Obtained via grid search\n",
        "# full  tied  diag  spherical\n",
        "gmm_clf.fit(X_train)\n",
        "log_probs_val = gmm_clf.score_samples(X_val)\n",
        "isotonic_regressor = IsotonicRegression(out_of_bounds='clip')\n",
        "isotonic_regressor.fit(log_probs_val, Y_val)  \n",
        "\n",
        "log_probs_test = gmm_clf.score_samples(X_test)\n",
        "test_probabilities = isotonic_regressor.predict(log_probs_test)\n",
        "test_predictions = [1 if prob >= 0.5 else 0 for prob in test_probabilities]\n",
        "\n",
        "cm = confusion_matrix(y_test,test_predictions )\n",
        "print(cm)\n",
        "print(accuracy_score(y_test,test_predictions))\n",
        "sns.heatmap(cm,annot=True,fmt='g')"
      ],
      "metadata": {
        "colab": {
          "base_uri": "https://localhost:8080/",
          "height": 336
        },
        "id": "sSKpjc6EhRtN",
        "outputId": "3a447b23-3289-4c3d-bf44-44f6467db0da"
      },
      "execution_count": null,
      "outputs": [
        {
          "output_type": "stream",
          "name": "stdout",
          "text": [
            "[[363034  51280]\n",
            " [106231 182692]]\n",
            "0.7760200330756203\n"
          ]
        },
        {
          "output_type": "execute_result",
          "data": {
            "text/plain": [
              "<matplotlib.axes._subplots.AxesSubplot at 0x7f37a2063710>"
            ]
          },
          "metadata": {},
          "execution_count": 19
        },
        {
          "output_type": "display_data",
          "data": {
            "text/plain": [
              "<Figure size 432x288 with 2 Axes>"
            ],
            "image/png": "[encoded data removed]"
          },
          "metadata": {
            "needs_background": "light"
          }
        }
      ]
    },
    {
      "cell_type": "code",
      "source": [
        "X_train = x_monday\n",
        "y_train = y_monday\n",
        "X_test = x_thursday\n",
        "y_test = y_thursday\n",
        "X_val = x_wednesday\n",
        "Y_val = y_wednesday\n",
        "\n",
        "gmm_clf = GaussianMixture(covariance_type='full', n_components=3 ,max_iter=int(1e5))  # Obtained via grid search\n",
        "# full  tied  diag  spherica\n",
        "gmm_clf.fit(X_train)\n",
        "log_probs_val = gmm_clf.score_samples(X_val)\n",
        "isotonic_regressor = IsotonicRegression(out_of_bounds='clip')\n",
        "isotonic_regressor.fit(log_probs_val, Y_val)  \n",
        "\n",
        "log_probs_test = gmm_clf.score_samples(X_test)\n",
        "test_probabilities = isotonic_regressor.predict(log_probs_test)\n",
        "test_predictions = [1 if prob >= 0.5 else 0 for prob in test_probabilities]\n",
        "\n",
        "cm = confusion_matrix(y_test,test_predictions )\n",
        "print(cm)\n",
        "print(accuracy_score(y_test,test_predictions))\n",
        "sns.heatmap(cm,annot=True,fmt='g')"
      ],
      "metadata": {
        "colab": {
          "base_uri": "https://localhost:8080/",
          "height": 336
        },
        "id": "4vWU1NLY1ImC",
        "outputId": "525c192a-7510-4120-8fb9-abeb56f9075a"
      },
      "execution_count": null,
      "outputs": [
        {
          "output_type": "stream",
          "name": "stdout",
          "text": [
            "[[141802 314804]\n",
            " [   125   2091]]\n",
            "0.31361399409792906\n"
          ]
        },
        {
          "output_type": "execute_result",
          "data": {
            "text/plain": [
              "<matplotlib.axes._subplots.AxesSubplot at 0x7f37a1f25ed0>"
            ]
          },
          "metadata": {},
          "execution_count": 27
        },
        {
          "output_type": "display_data",
          "data": {
            "text/plain": [
              "<Figure size 432x288 with 2 Axes>"
            ],
            "image/png": "[encoded data removed]"
          },
          "metadata": {
            "needs_background": "light"
          }
        }
      ]
    },
    {
      "cell_type": "code",
      "source": [
        "X_train = x_monday\n",
        "y_train = y_monday\n",
        "X_test = x_tuesday\n",
        "y_test = y_tuesday\n",
        "X_val = x_wednesday\n",
        "Y_val = y_wednesday\n",
        "\n",
        "gmm_clf = GaussianMixture(covariance_type='full', n_components=3 ,max_iter=int(1e5))  # Obtained via grid search\n",
        "# full  tied  diag  spherica\n",
        "gmm_clf.fit(X_train)\n",
        "log_probs_val = gmm_clf.score_samples(X_val)\n",
        "isotonic_regressor = IsotonicRegression(out_of_bounds='clip')\n",
        "isotonic_regressor.fit(log_probs_val, Y_val)  \n",
        "\n",
        "log_probs_test = gmm_clf.score_samples(X_test)\n",
        "test_probabilities = isotonic_regressor.predict(log_probs_test)\n",
        "test_predictions = [1 if prob >= 0.5 else 0 for prob in test_probabilities]\n",
        "\n",
        "cm = confusion_matrix(y_test,test_predictions )\n",
        "print(cm)\n",
        "print(accuracy_score(y_test,test_predictions))\n",
        "sns.heatmap(cm,annot=True,fmt='g')"
      ],
      "metadata": {
        "colab": {
          "base_uri": "https://localhost:8080/",
          "height": 336
        },
        "id": "jovBDtom1IqU",
        "outputId": "fb8cf9ba-4841-414a-95b4-c3b2211e05b9"
      },
      "execution_count": null,
      "outputs": [
        {
          "output_type": "stream",
          "name": "stdout",
          "text": [
            "[[154699 277319]\n",
            " [  2960  10875]]\n",
            "0.371364552890751\n"
          ]
        },
        {
          "output_type": "execute_result",
          "data": {
            "text/plain": [
              "<matplotlib.axes._subplots.AxesSubplot at 0x7f37a1a41e90>"
            ]
          },
          "metadata": {},
          "execution_count": 28
        },
        {
          "output_type": "display_data",
          "data": {
            "text/plain": [
              "<Figure size 432x288 with 2 Axes>"
            ],
            "image/png": "[encoded data removed]"
          },
          "metadata": {
            "needs_background": "light"
          }
        }
      ]
    },
    {
      "cell_type": "code",
      "source": [
        ""
      ],
      "metadata": {
        "id": "6k7tvcQh0O98"
      },
      "execution_count": null,
      "outputs": []
    }
  ]
}